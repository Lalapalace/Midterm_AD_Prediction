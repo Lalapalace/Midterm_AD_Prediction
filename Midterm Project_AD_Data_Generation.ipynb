{
 "cells": [
  {
   "cell_type": "code",
   "execution_count": 58,
   "id": "de33eb2e",
   "metadata": {},
   "outputs": [],
   "source": [
    "#Packages and Libraries\n",
    "import pandas as pd\n",
    "import numpy as np\n",
    "import matplotlib.pyplot as plt\n",
    "import seaborn as sns\n",
    "\n",
    "from sdv.metadata import SingleTableMetadata\n",
    "from sdv.single_table import TVAESynthesizer\n",
    "\n",
    "from sklearn.preprocessing import MinMaxScaler"
   ]
  },
  {
   "cell_type": "code",
   "execution_count": 59,
   "id": "4c01e134",
   "metadata": {},
   "outputs": [
    {
     "name": "stdout",
     "output_type": "stream",
     "text": [
      "Original Shape: (174, 452)\n"
     ]
    }
   ],
   "source": [
    "#Load dataset \n",
    "df = pd.read_csv(\"data.csv\")\n",
    "\n",
    "df.head()\n",
    "print(\"Original Shape: {}\".format(df.shape))"
   ]
  },
  {
   "cell_type": "code",
   "execution_count": 60,
   "id": "6b0fe56c",
   "metadata": {},
   "outputs": [
    {
     "name": "stderr",
     "output_type": "stream",
     "text": [
      "c:\\Users\\Gian\\AppData\\Local\\Programs\\Python\\Python311\\Lib\\site-packages\\sdv\\single_table\\base.py:168: FutureWarning: The 'SingleTableMetadata' is deprecated. Please use the new 'Metadata' class for synthesizers.\n",
      "  warnings.warn(DEPRECATION_MSG, FutureWarning)\n"
     ]
    },
    {
     "name": "stdout",
     "output_type": "stream",
     "text": [
      "Synthetic Data Shape:  (700, 452)\n"
     ]
    }
   ],
   "source": [
    "#Create metadata\n",
    "metadata = SingleTableMetadata()\n",
    "metadata.detect_from_dataframe(df)\n",
    "metadata.save_to_json(\"darwin_metadata_700.json\")\n",
    "\n",
    "#Train TVAE model\n",
    "synthesizer = TVAESynthesizer(metadata, epochs = 500)\n",
    "synthesizer.fit(df)\n",
    "\n",
    "#Generate synthetic rows\n",
    "synthetic_data = synthesizer.sample(700)\n",
    "print(\"Synthetic Data Shape: \", synthetic_data.shape)\n"
   ]
  },
  {
   "cell_type": "code",
   "execution_count": 61,
   "id": "fe07b20c",
   "metadata": {},
   "outputs": [
    {
     "name": "stdout",
     "output_type": "stream",
     "text": [
      "Extended dataset shape:                  ID  air_time1  disp_index1  gmrt_in_air1  gmrt_on_paper1  \\\n",
      "0             id_1       5160     0.000013    120.804174       86.853334   \n",
      "1             id_2      51980     0.000016    115.318238       83.448681   \n",
      "2             id_3       2600     0.000010    229.933997      172.761858   \n",
      "3             id_4       2130     0.000010    369.403342      183.193104   \n",
      "4             id_5       2310     0.000007    257.997131      111.275889   \n",
      "..             ...        ...          ...           ...             ...   \n",
      "695  sdv-id-WLEXsv       6160     0.000002    283.284183      153.728763   \n",
      "696  sdv-id-GOfdKS       2228     0.000002    290.385030      154.784786   \n",
      "697  sdv-id-cbuKnJ       5366     0.000013    240.910721      151.717560   \n",
      "698  sdv-id-rVzTeU       1802     0.000028    310.105671      113.755988   \n",
      "699  sdv-id-crsCgI       7601     0.000006    273.814408      164.421736   \n",
      "\n",
      "     max_x_extension1  max_y_extension1  mean_acc_in_air1  mean_acc_on_paper1  \\\n",
      "0                 957              6601          0.361800            0.217459   \n",
      "1                1694              6998          0.272513            0.144880   \n",
      "2                2333              5802          0.387020            0.181342   \n",
      "3                1756              8159          0.556879            0.164502   \n",
      "4                 987              4732          0.266077            0.145104   \n",
      "..                ...               ...               ...                 ...   \n",
      "695              1377             11574          0.366125            0.149909   \n",
      "696              1913              7822          0.295574            0.179651   \n",
      "697              2042              7395          0.194077            0.178617   \n",
      "698              1522              7265          0.138112            0.155182   \n",
      "699              1548              7137          0.263109            0.160864   \n",
      "\n",
      "     mean_gmrt1  ...  mean_jerk_in_air25  mean_jerk_on_paper25  \\\n",
      "0    103.828754  ...            0.141434              0.024471   \n",
      "1     99.383459  ...            0.049663              0.018368   \n",
      "2    201.347928  ...            0.178194              0.017174   \n",
      "3    276.298223  ...            0.113905              0.019860   \n",
      "4    184.636510  ...            0.121782              0.020872   \n",
      "..          ...  ...                 ...                   ...   \n",
      "695  216.876827  ...            0.213094              0.021424   \n",
      "696  119.896115  ...            0.179480              0.018413   \n",
      "697  223.131059  ...            0.086379              0.022336   \n",
      "698  270.964841  ...            0.141360              0.020141   \n",
      "699  157.399555  ...            0.096001              0.018459   \n",
      "\n",
      "     mean_speed_in_air25  mean_speed_on_paper25  num_of_pendown25  \\\n",
      "0               5.596487               3.184589                71   \n",
      "1               1.665973               0.950249               129   \n",
      "2               4.000781               2.392521                74   \n",
      "3               4.206746               1.613522               123   \n",
      "4               3.319036               1.680629                92   \n",
      "..                   ...                    ...               ...   \n",
      "695             4.096016               3.261257                64   \n",
      "696             4.468997               3.463604                74   \n",
      "697             6.107483               2.603519                80   \n",
      "698             4.536510               3.075406               106   \n",
      "699             5.410282               2.997154                60   \n",
      "\n",
      "     paper_time25  pressure_mean25  pressure_var25  total_time25  class  \n",
      "0           40120      1749.278166    296102.76760        144605      P  \n",
      "1          126700      1504.768272    278744.28500        298640      P  \n",
      "2           45480      1431.443492    144411.70550         79025      P  \n",
      "3           67945      1465.843329    230184.71540        181220      P  \n",
      "4           37285      1841.702561    158290.02550         72575      P  \n",
      "..            ...              ...             ...           ...    ...  \n",
      "695         28941      1828.143235     90098.98239         95848      P  \n",
      "696         37102      1857.734875     93129.55890         57930      P  \n",
      "697         45263      1741.841241     93007.03035         97231      P  \n",
      "698         38867      1625.530614    188847.46926         33837      P  \n",
      "699         34865      1441.792796    143150.08309         66819      H  \n",
      "\n",
      "[874 rows x 452 columns]\n"
     ]
    }
   ],
   "source": [
    "#Combine real + synthetic data\n",
    "df_extend = pd.concat([df, synthetic_data])\n",
    "print(\"Extended dataset shape: \", df_extend)"
   ]
  },
  {
   "cell_type": "code",
   "execution_count": 62,
   "id": "5fee3187",
   "metadata": {},
   "outputs": [
    {
     "name": "stdout",
     "output_type": "stream",
     "text": [
      "Missing Data Count: 0\n",
      "Missing Data Count: 3979\n"
     ]
    }
   ],
   "source": [
    "#Define features and targets\n",
    "X = df_extend.drop([\"class\", \"ID\"], axis=1).values\n",
    "y = df_extend[\"class\"]\n",
    "\n",
    "#Check missing values before\n",
    "print(\"Missing Data Count: {}\".format(pd.DataFrame(X).isnull().sum().sum()))\n",
    "\n",
    "#Artificially adding missing values (AI Assisted)\n",
    "rng = np.random.default_rng(42)\n",
    "mask = rng.random(X.shape) < 0.01\n",
    "X_missing = X.astype(float)\n",
    "X_missing[mask] = np.nan\n",
    "\n",
    "#Check missing values after\n",
    "print(\"Missing Data Count: {}\".format(pd.DataFrame(X_missing).isnull().sum().sum()))"
   ]
  },
  {
   "cell_type": "code",
   "execution_count": 63,
   "id": "03f5a017",
   "metadata": {},
   "outputs": [],
   "source": [
    "#Rebuild the DF with missing values\n",
    "df_extend_missing = pd.DataFrame(X_missing, columns=df_extend.drop([\"class\", \"ID\"], axis=1).columns)\n",
    "df_extend_missing[\"class\"] = y.values\n",
    "df_extend_missing[\"ID\"] = df_extend[\"ID\"].values \n",
    "\n",
    "#Save to CSV\n",
    "df_extend_missing.to_csv(\"data_extended_withMissing_800.csv\", index=False)"
   ]
  },
  {
   "cell_type": "code",
   "execution_count": 66,
   "id": "ab3ffb5d",
   "metadata": {},
   "outputs": [
    {
     "name": "stdout",
     "output_type": "stream",
     "text": [
      "                  Original Mean  Synthetic Mean    Difference\n",
      "air_time1           5664.166667     3985.169336 -1.678997e+03\n",
      "disp_index1            0.000010        0.000010  5.219972e-07\n",
      "gmrt_in_air1         297.666685      244.887936 -5.277875e+01\n",
      "gmrt_on_paper1       200.504413      181.763707 -1.874071e+01\n",
      "max_x_extension1    1977.965517     1704.236842 -2.737287e+02\n",
      "...                         ...             ...           ...\n",
      "num_of_pendown25      85.839080       82.197941 -3.641140e+00\n",
      "paper_time25       43109.712644    39952.294050 -3.157419e+03\n",
      "pressure_mean25     1629.585962     1654.998803  2.541284e+01\n",
      "pressure_var25    163061.767360   155677.087005 -7.384680e+03\n",
      "total_time25      164203.327586   103482.596110 -6.072073e+04\n",
      "\n",
      "[450 rows x 3 columns]\n"
     ]
    }
   ],
   "source": [
    "# Make sure both datasets have the same columns\n",
    "assert all(df.columns == df_extend.columns), \"Columns must match!\"\n",
    "\n",
    "# Calculate mean for each feature\n",
    "original_means = df.drop([\"class\", \"ID\"], axis=1).mean()\n",
    "synthetic_means = df_extend.drop([\"class\", \"ID\"], axis=1).mean()\n",
    "\n",
    "# Combine into a comparison table\n",
    "comparison = pd.DataFrame({\n",
    "    \"Original Mean\": original_means,\n",
    "    \"Synthetic Mean\": synthetic_means,\n",
    "    \"Difference\": synthetic_means - original_means\n",
    "})\n",
    "\n",
    "print(comparison)\n"
   ]
  }
 ],
 "metadata": {
  "kernelspec": {
   "display_name": "Python 3",
   "language": "python",
   "name": "python3"
  },
  "language_info": {
   "codemirror_mode": {
    "name": "ipython",
    "version": 3
   },
   "file_extension": ".py",
   "mimetype": "text/x-python",
   "name": "python",
   "nbconvert_exporter": "python",
   "pygments_lexer": "ipython3",
   "version": "3.11.4"
  }
 },
 "nbformat": 4,
 "nbformat_minor": 5
}
